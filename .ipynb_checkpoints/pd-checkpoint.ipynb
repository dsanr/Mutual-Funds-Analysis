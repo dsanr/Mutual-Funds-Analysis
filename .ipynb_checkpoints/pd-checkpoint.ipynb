{
 "cells": [
  {
   "cell_type": "code",
   "execution_count": 1,
   "metadata": {},
   "outputs": [],
   "source": [
    "import pandas as pd\n",
    "import numpy as np\n",
    "import os\n",
    "import matplotlib.pyplot as plt"
   ]
  },
  {
   "cell_type": "code",
   "execution_count": 4,
   "metadata": {},
   "outputs": [],
   "source": [
    "path = 'D:\\\\dsr\\\\fin\\\\mf\\\\'\n",
    "# df = pd.read_excel(path + 'mf_return_multi_Copy.xlsx')\n",
    "# print(df)"
   ]
  },
  {
   "cell_type": "code",
   "execution_count": null,
   "metadata": {},
   "outputs": [],
   "source": [
    "print(df.info())"
   ]
  },
  {
   "cell_type": "code",
   "execution_count": null,
   "metadata": {},
   "outputs": [],
   "source": [
    "print(df.head())"
   ]
  },
  {
   "cell_type": "code",
   "execution_count": 12,
   "metadata": {},
   "outputs": [
    {
     "data": {
      "text/html": [
       "<div>\n",
       "<style scoped>\n",
       "    .dataframe tbody tr th:only-of-type {\n",
       "        vertical-align: middle;\n",
       "    }\n",
       "\n",
       "    .dataframe tbody tr th {\n",
       "        vertical-align: top;\n",
       "    }\n",
       "\n",
       "    .dataframe thead th {\n",
       "        text-align: right;\n",
       "    }\n",
       "</style>\n",
       "<table border=\"1\" class=\"dataframe\">\n",
       "  <thead>\n",
       "    <tr style=\"text-align: right;\">\n",
       "      <th></th>\n",
       "      <th>1</th>\n",
       "    </tr>\n",
       "  </thead>\n",
       "  <tbody>\n",
       "    <tr>\n",
       "      <td>0</td>\n",
       "      <td>a</td>\n",
       "    </tr>\n",
       "    <tr>\n",
       "      <td>1</td>\n",
       "      <td>b</td>\n",
       "    </tr>\n",
       "    <tr>\n",
       "      <td>2</td>\n",
       "      <td>c</td>\n",
       "    </tr>\n",
       "  </tbody>\n",
       "</table>\n",
       "</div>"
      ],
      "text/plain": [
       "   1\n",
       "0  a\n",
       "1  b\n",
       "2  c"
      ]
     },
     "execution_count": 12,
     "metadata": {},
     "output_type": "execute_result"
    }
   ],
   "source": [
    "df1 = pd.DataFrame(['a', 'b', 'c'], columns=list(range(1, 2)))\n",
    "df1"
   ]
  },
  {
   "cell_type": "code",
   "execution_count": 15,
   "metadata": {},
   "outputs": [
    {
     "data": {
      "text/html": [
       "<div>\n",
       "<style scoped>\n",
       "    .dataframe tbody tr th:only-of-type {\n",
       "        vertical-align: middle;\n",
       "    }\n",
       "\n",
       "    .dataframe tbody tr th {\n",
       "        vertical-align: top;\n",
       "    }\n",
       "\n",
       "    .dataframe thead th {\n",
       "        text-align: right;\n",
       "    }\n",
       "</style>\n",
       "<table border=\"1\" class=\"dataframe\">\n",
       "  <thead>\n",
       "    <tr style=\"text-align: right;\">\n",
       "      <th></th>\n",
       "      <th>1</th>\n",
       "    </tr>\n",
       "  </thead>\n",
       "  <tbody>\n",
       "    <tr>\n",
       "      <td>0</td>\n",
       "      <td>c</td>\n",
       "    </tr>\n",
       "    <tr>\n",
       "      <td>1</td>\n",
       "      <td>d</td>\n",
       "    </tr>\n",
       "    <tr>\n",
       "      <td>2</td>\n",
       "      <td>e</td>\n",
       "    </tr>\n",
       "  </tbody>\n",
       "</table>\n",
       "</div>"
      ],
      "text/plain": [
       "   1\n",
       "0  c\n",
       "1  d\n",
       "2  e"
      ]
     },
     "execution_count": 15,
     "metadata": {},
     "output_type": "execute_result"
    }
   ],
   "source": [
    "df2 = pd.DataFrame({1: ['c', 'd', 'e']})\n",
    "df2"
   ]
  },
  {
   "cell_type": "code",
   "execution_count": null,
   "metadata": {},
   "outputs": [],
   "source": []
  },
  {
   "cell_type": "code",
   "execution_count": 20,
   "metadata": {},
   "outputs": [
    {
     "data": {
      "text/html": [
       "<div>\n",
       "<style scoped>\n",
       "    .dataframe tbody tr th:only-of-type {\n",
       "        vertical-align: middle;\n",
       "    }\n",
       "\n",
       "    .dataframe tbody tr th {\n",
       "        vertical-align: top;\n",
       "    }\n",
       "\n",
       "    .dataframe thead th {\n",
       "        text-align: right;\n",
       "    }\n",
       "</style>\n",
       "<table border=\"1\" class=\"dataframe\">\n",
       "  <thead>\n",
       "    <tr style=\"text-align: right;\">\n",
       "      <th></th>\n",
       "      <th>1</th>\n",
       "      <th>1</th>\n",
       "    </tr>\n",
       "  </thead>\n",
       "  <tbody>\n",
       "    <tr>\n",
       "      <td>0</td>\n",
       "      <td>a</td>\n",
       "      <td>c</td>\n",
       "    </tr>\n",
       "    <tr>\n",
       "      <td>1</td>\n",
       "      <td>b</td>\n",
       "      <td>d</td>\n",
       "    </tr>\n",
       "    <tr>\n",
       "      <td>2</td>\n",
       "      <td>c</td>\n",
       "      <td>e</td>\n",
       "    </tr>\n",
       "  </tbody>\n",
       "</table>\n",
       "</div>"
      ],
      "text/plain": [
       "   1  1\n",
       "0  a  c\n",
       "1  b  d\n",
       "2  c  e"
      ]
     },
     "execution_count": 20,
     "metadata": {},
     "output_type": "execute_result"
    }
   ],
   "source": [
    "df = pd.concat([df1, df2], axis=1)\n",
    "df"
   ]
  },
  {
   "cell_type": "code",
   "execution_count": 22,
   "metadata": {},
   "outputs": [
    {
     "data": {
      "text/plain": [
       "RangeIndex(start=0, stop=3, step=1)"
      ]
     },
     "execution_count": 22,
     "metadata": {},
     "output_type": "execute_result"
    }
   ],
   "source": [
    "df.index"
   ]
  },
  {
   "cell_type": "code",
   "execution_count": 24,
   "metadata": {},
   "outputs": [
    {
     "data": {
      "text/html": [
       "<div>\n",
       "<style scoped>\n",
       "    .dataframe tbody tr th:only-of-type {\n",
       "        vertical-align: middle;\n",
       "    }\n",
       "\n",
       "    .dataframe tbody tr th {\n",
       "        vertical-align: top;\n",
       "    }\n",
       "\n",
       "    .dataframe thead th {\n",
       "        text-align: right;\n",
       "    }\n",
       "</style>\n",
       "<table border=\"1\" class=\"dataframe\">\n",
       "  <thead>\n",
       "    <tr style=\"text-align: right;\">\n",
       "      <th></th>\n",
       "      <th>STATE</th>\n",
       "      <th>DISTRICT</th>\n",
       "      <th>PINCODE</th>\n",
       "      <th>BRCODE</th>\n",
       "      <th>BRANCH_NAME</th>\n",
       "      <th>POPULATION</th>\n",
       "    </tr>\n",
       "  </thead>\n",
       "  <tbody>\n",
       "    <tr>\n",
       "      <td>0</td>\n",
       "      <td>ANDAMAN AND NICOBAR</td>\n",
       "      <td>SOUTH ANDAMAN</td>\n",
       "      <td>744101</td>\n",
       "      <td>156</td>\n",
       "      <td>PORT BLAIR</td>\n",
       "      <td>Urban</td>\n",
       "    </tr>\n",
       "    <tr>\n",
       "      <td>1</td>\n",
       "      <td>ANDAMAN AND NICOBAR</td>\n",
       "      <td>NORTH &amp; MIDDLE ANDAMAN</td>\n",
       "      <td>744205</td>\n",
       "      <td>1564</td>\n",
       "      <td>RANGAT</td>\n",
       "      <td>Rural</td>\n",
       "    </tr>\n",
       "    <tr>\n",
       "      <td>2</td>\n",
       "      <td>ANDAMAN AND NICOBAR</td>\n",
       "      <td>SOUTH ANDAMAN</td>\n",
       "      <td>744104</td>\n",
       "      <td>2001</td>\n",
       "      <td>ABERDEEN BAZAAR EVE BR</td>\n",
       "      <td>Urban</td>\n",
       "    </tr>\n",
       "    <tr>\n",
       "      <td>3</td>\n",
       "      <td>ANDAMAN AND NICOBAR</td>\n",
       "      <td>NICOBAR</td>\n",
       "      <td>744301</td>\n",
       "      <td>4645</td>\n",
       "      <td>CAR NICOBAR</td>\n",
       "      <td>Semi-Urban</td>\n",
       "    </tr>\n",
       "    <tr>\n",
       "      <td>4</td>\n",
       "      <td>ANDAMAN AND NICOBAR</td>\n",
       "      <td>NICOBAR</td>\n",
       "      <td>744303</td>\n",
       "      <td>4933</td>\n",
       "      <td>NAN COWRIE</td>\n",
       "      <td>Rural</td>\n",
       "    </tr>\n",
       "  </tbody>\n",
       "</table>\n",
       "</div>"
      ],
      "text/plain": [
       "                 STATE                DISTRICT PINCODE  BRCODE  \\\n",
       "0  ANDAMAN AND NICOBAR           SOUTH ANDAMAN  744101     156   \n",
       "1  ANDAMAN AND NICOBAR  NORTH & MIDDLE ANDAMAN  744205    1564   \n",
       "2  ANDAMAN AND NICOBAR           SOUTH ANDAMAN  744104    2001   \n",
       "3  ANDAMAN AND NICOBAR                 NICOBAR  744301    4645   \n",
       "4  ANDAMAN AND NICOBAR                 NICOBAR  744303    4933   \n",
       "\n",
       "                                     BRANCH_NAME  POPULATION  \n",
       "0                                     PORT BLAIR       Urban  \n",
       "1                                         RANGAT       Rural  \n",
       "2                         ABERDEEN BAZAAR EVE BR       Urban  \n",
       "3  CAR NICOBAR                                    Semi-Urban  \n",
       "4  NAN COWRIE                                          Rural  "
      ]
     },
     "execution_count": 24,
     "metadata": {},
     "output_type": "execute_result"
    }
   ],
   "source": [
    "df = pd.read_excel(r'D:\\Population_Group_Wise_Branch_List.xls')\n",
    "df.head()"
   ]
  },
  {
   "cell_type": "code",
   "execution_count": 32,
   "metadata": {},
   "outputs": [
    {
     "data": {
      "text/html": [
       "<div>\n",
       "<style scoped>\n",
       "    .dataframe tbody tr th:only-of-type {\n",
       "        vertical-align: middle;\n",
       "    }\n",
       "\n",
       "    .dataframe tbody tr th {\n",
       "        vertical-align: top;\n",
       "    }\n",
       "\n",
       "    .dataframe thead th {\n",
       "        text-align: right;\n",
       "    }\n",
       "</style>\n",
       "<table border=\"1\" class=\"dataframe\">\n",
       "  <thead>\n",
       "    <tr style=\"text-align: right;\">\n",
       "      <th></th>\n",
       "      <th>STATE</th>\n",
       "      <th>DISTRICT</th>\n",
       "      <th>PINCODE</th>\n",
       "      <th>BRCODE</th>\n",
       "      <th>BRANCH_NAME</th>\n",
       "    </tr>\n",
       "    <tr>\n",
       "      <th>POPULATION</th>\n",
       "      <th></th>\n",
       "      <th></th>\n",
       "      <th></th>\n",
       "      <th></th>\n",
       "      <th></th>\n",
       "    </tr>\n",
       "  </thead>\n",
       "  <tbody>\n",
       "    <tr>\n",
       "      <td>Metro</td>\n",
       "      <td>0.204141</td>\n",
       "      <td>0.204141</td>\n",
       "      <td>0.204141</td>\n",
       "      <td>0.204141</td>\n",
       "      <td>0.204141</td>\n",
       "    </tr>\n",
       "    <tr>\n",
       "      <td>Rural</td>\n",
       "      <td>0.328526</td>\n",
       "      <td>0.328526</td>\n",
       "      <td>0.328526</td>\n",
       "      <td>0.328526</td>\n",
       "      <td>0.328526</td>\n",
       "    </tr>\n",
       "    <tr>\n",
       "      <td>Semi-Urban</td>\n",
       "      <td>0.270075</td>\n",
       "      <td>0.270075</td>\n",
       "      <td>0.270075</td>\n",
       "      <td>0.270075</td>\n",
       "      <td>0.270075</td>\n",
       "    </tr>\n",
       "    <tr>\n",
       "      <td>Urban</td>\n",
       "      <td>0.197258</td>\n",
       "      <td>0.197258</td>\n",
       "      <td>0.197258</td>\n",
       "      <td>0.197258</td>\n",
       "      <td>0.197258</td>\n",
       "    </tr>\n",
       "  </tbody>\n",
       "</table>\n",
       "</div>"
      ],
      "text/plain": [
       "               STATE  DISTRICT   PINCODE    BRCODE  BRANCH_NAME\n",
       "POPULATION                                                     \n",
       "Metro       0.204141  0.204141  0.204141  0.204141     0.204141\n",
       "Rural       0.328526  0.328526  0.328526  0.328526     0.328526\n",
       "Semi-Urban  0.270075  0.270075  0.270075  0.270075     0.270075\n",
       "Urban       0.197258  0.197258  0.197258  0.197258     0.197258"
      ]
     },
     "execution_count": 32,
     "metadata": {},
     "output_type": "execute_result"
    }
   ],
   "source": [
    "df.groupby(['POPULATION']).count()/df['POPULATION'].count()"
   ]
  },
  {
   "cell_type": "code",
   "execution_count": null,
   "metadata": {},
   "outputs": [],
   "source": [
    "print(df.iloc[:6, 8:11])"
   ]
  },
  {
   "cell_type": "code",
   "execution_count": 7,
   "metadata": {},
   "outputs": [
    {
     "name": "stdout",
     "output_type": "stream",
     "text": [
      "            a          b          c\n",
      "6    7.580933  -1.796326  20.926296\n",
      "7   57.273868 -18.446089   1.666904\n",
      "8   10.413072  -1.489644   8.043051\n",
      "9  -17.340493   5.010076  16.784418\n",
      "10  -0.434276  14.270399 -29.601415\n"
     ]
    }
   ],
   "source": [
    "df = pd.DataFrame(10 + np.random.randn(5, 3) * 20,\n",
    "                  index=np.arange(6, 11), columns=['a', 'b', 'c'])\n",
    "print(df)"
   ]
  },
  {
   "cell_type": "code",
   "execution_count": 18,
   "metadata": {},
   "outputs": [
    {
     "name": "stdout",
     "output_type": "stream",
     "text": [
      "major  minor\n",
      "A      1       -0.348894\n",
      "       2        0.070284\n",
      "       3        1.471791\n",
      "B      1       -0.688677\n",
      "       2        1.805415\n",
      "       3        0.114181\n",
      "Name: X, dtype: float64\n",
      "major  minor\n",
      "A      1        0.983703\n",
      "       2        0.777533\n",
      "       3        1.663181\n",
      "B      1       -0.694923\n",
      "       2        0.456314\n",
      "       3        1.513581\n",
      "Name: Y, dtype: float64\n",
      "major  minor\n",
      "A      1        0.580923\n",
      "       2        0.581959\n",
      "       3       -0.261177\n",
      "B      1        1.940423\n",
      "       2       -0.574812\n",
      "       3        0.351132\n",
      "Name: Z, dtype: float64\n"
     ]
    }
   ],
   "source": [
    "for k, v in df.iteritems():\n",
    "    print(v)\n",
    "#     plt.plot(k, v, 'r-o')\n",
    "#     plt.show()"
   ]
  },
  {
   "cell_type": "code",
   "execution_count": 9,
   "metadata": {},
   "outputs": [
    {
     "name": "stdout",
     "output_type": "stream",
     "text": [
      "6 a     7.580933\n",
      "b    -1.796326\n",
      "c    20.926296\n",
      "Name: 6, dtype: float64\n",
      "7 a    57.273868\n",
      "b   -18.446089\n",
      "c     1.666904\n",
      "Name: 7, dtype: float64\n",
      "8 a    10.413072\n",
      "b    -1.489644\n",
      "c     8.043051\n",
      "Name: 8, dtype: float64\n",
      "9 a   -17.340493\n",
      "b     5.010076\n",
      "c    16.784418\n",
      "Name: 9, dtype: float64\n",
      "10 a    -0.434276\n",
      "b    14.270399\n",
      "c   -29.601415\n",
      "Name: 10, dtype: float64\n"
     ]
    }
   ],
   "source": [
    "for k, v in df.iterrows():\n",
    "    print(k, v)"
   ]
  },
  {
   "cell_type": "code",
   "execution_count": 10,
   "metadata": {},
   "outputs": [
    {
     "name": "stdout",
     "output_type": "stream",
     "text": [
      "Pandas(Index=6, a=7.580932838512372, b=-1.7963258244654625, c=20.926296292839204)\n",
      "Pandas(Index=7, a=57.273868416103355, b=-18.446089263038576, c=1.666903765386552)\n",
      "Pandas(Index=8, a=10.413071551414976, b=-1.489643503171692, c=8.0430506514958)\n",
      "Pandas(Index=9, a=-17.34049341025507, b=5.010075626212832, c=16.784418271697348)\n",
      "Pandas(Index=10, a=-0.43427620408020573, b=14.270398582715949, c=-29.601414914242937)\n"
     ]
    }
   ],
   "source": [
    "for r in df.itertuples():\n",
    "    print(r)"
   ]
  },
  {
   "cell_type": "code",
   "execution_count": 11,
   "metadata": {},
   "outputs": [
    {
     "name": "stdout",
     "output_type": "stream",
     "text": [
      "            a          b          c\n",
      "10  -0.434276  14.270399 -29.601415\n",
      "7   57.273868 -18.446089   1.666904\n",
      "8   10.413072  -1.489644   8.043051\n",
      "9  -17.340493   5.010076  16.784418\n",
      "6    7.580933  -1.796326  20.926296\n"
     ]
    }
   ],
   "source": [
    "df = df.sort_values(by=['c'])\n",
    "print(df)"
   ]
  },
  {
   "cell_type": "code",
   "execution_count": 12,
   "metadata": {},
   "outputs": [
    {
     "name": "stdout",
     "output_type": "stream",
     "text": [
      "            a          b          c\n",
      "10        NaN        NaN        NaN\n",
      "7   56.839592  -4.175691 -27.934511\n",
      "8   67.252664  -5.665334 -19.891460\n",
      "9   50.346447 -14.925657  26.494373\n",
      "6    0.653511   1.724106  45.753765\n"
     ]
    }
   ],
   "source": [
    "dfr = df.rolling(3, min_periods=2)\n",
    "print(dfr.sum())"
   ]
  },
  {
   "cell_type": "code",
   "execution_count": 13,
   "metadata": {},
   "outputs": [
    {
     "name": "stdout",
     "output_type": "stream",
     "text": [
      "            a         b          c\n",
      "10        NaN       NaN        NaN\n",
      "7         NaN       NaN        NaN\n",
      "8   67.252664 -5.665334 -19.891460\n",
      "9   49.912170 -0.655259  -3.107042\n",
      "6   57.493103 -2.451584  17.819254\n"
     ]
    }
   ],
   "source": [
    "dfe = df.expanding(3).sum()\n",
    "print(dfe)"
   ]
  },
  {
   "cell_type": "code",
   "execution_count": 14,
   "metadata": {},
   "outputs": [
    {
     "name": "stdout",
     "output_type": "stream",
     "text": [
      "            a          b          c\n",
      "10        NaN        NaN        NaN\n",
      "7   56.839592  -4.175691 -27.934511\n",
      "8   67.252664  -5.665334 -19.891460\n",
      "9   50.346447 -14.925657  26.494373\n",
      "6    0.653511   1.724106  45.753765\n"
     ]
    }
   ],
   "source": [
    "dfa = dfr.agg(np.sum)\n",
    "print(dfa)"
   ]
  },
  {
   "cell_type": "code",
   "execution_count": 15,
   "metadata": {},
   "outputs": [
    {
     "name": "stdout",
     "output_type": "stream",
     "text": [
      "                    X         Y         Z\n",
      "major minor                              \n",
      "A     1     -0.348894  0.983703  0.580923\n",
      "      2      0.070284  0.777533  0.581959\n",
      "      3      1.471791  1.663181 -0.261177\n",
      "B     1     -0.688677 -0.694923  1.940423\n",
      "      2      1.805415  0.456314 -0.574812\n",
      "      3      0.114181  1.513581  0.351132\n"
     ]
    }
   ],
   "source": [
    "np.random.seed(32)\n",
    "major = ['A', 'B']\n",
    "minor = [1, 2, 3]\n",
    "columns = ('X', 'Y', 'Z')\n",
    "index = pd.MultiIndex.from_product([major, minor])\n",
    "df = pd.DataFrame(np.random.randn(6,3), index, columns)\n",
    "df.index.names = ['major', 'minor']\n",
    "print(df)"
   ]
  },
  {
   "cell_type": "code",
   "execution_count": 16,
   "metadata": {},
   "outputs": [
    {
     "name": "stdout",
     "output_type": "stream",
     "text": [
      "0.5819587452054185\n"
     ]
    }
   ],
   "source": [
    "print(df.loc['A'].loc[2]['Z'])"
   ]
  },
  {
   "cell_type": "code",
   "execution_count": 17,
   "metadata": {},
   "outputs": [
    {
     "name": "stdout",
     "output_type": "stream",
     "text": [
      "              X         Y         Z\n",
      "major                              \n",
      "A      1.471791  1.663181 -0.261177\n",
      "B      0.114181  1.513581  0.351132\n"
     ]
    }
   ],
   "source": [
    "print(df.xs(3, level='minor'))"
   ]
  },
  {
   "cell_type": "code",
   "execution_count": null,
   "metadata": {},
   "outputs": [],
   "source": []
  }
 ],
 "metadata": {
  "kernelspec": {
   "display_name": "Python 3",
   "language": "python",
   "name": "python3"
  },
  "language_info": {
   "codemirror_mode": {
    "name": "ipython",
    "version": 3
   },
   "file_extension": ".py",
   "mimetype": "text/x-python",
   "name": "python",
   "nbconvert_exporter": "python",
   "pygments_lexer": "ipython3",
   "version": "3.7.4"
  }
 },
 "nbformat": 4,
 "nbformat_minor": 4
}
